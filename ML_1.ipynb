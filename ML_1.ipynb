{
 "cells": [
  {
   "cell_type": "markdown",
   "metadata": {},
   "source": [
    "#  MACHINE LEARNING \n",
    "\n",
    "# Tensori\n",
    "Un tensore è una struttura dati multidimensionale utilizzata principalmente nelle librerie di calcolo numerico e di apprendimento automatico come PyTorch e TensorFlow. Può essere pensato come una generalizzazione dei vettori e delle matrici a più dimensioni.\n",
    "Sono simili agli ndarray di NumPy, tranne per il fatto che i tensori possono essere eseguiti su GPU o altro hardware specializzato per accelerare l'elaborazione.\n",
    "Per utilizzare i tensori, bisogna importare la libreria come segue:"
   ]
  },
  {
   "cell_type": "code",
   "execution_count": 11,
   "metadata": {},
   "outputs": [],
   "source": [
    "import torch\n",
    "import numpy as np"
   ]
  },
  {
   "cell_type": "markdown",
   "metadata": {},
   "source": [
    "I tensori possono essere inizializzati come segue con le informazioni seguenti:"
   ]
  },
  {
   "cell_type": "code",
   "execution_count": 12,
   "metadata": {},
   "outputs": [
    {
     "name": "stdout",
     "output_type": "stream",
     "text": [
      "Shape of tensor: torch.Size([2, 2])\n",
      "Datatype of tensor: torch.int64\n",
      "Device tensor is stored on: cpu\n"
     ]
    }
   ],
   "source": [
    "data = [[1, 2], [3, 4]]\n",
    "x_data = torch.tensor(data)\n",
    "print(f\"Shape of tensor: {x_data.shape}\")\n",
    "print(f\"Datatype of tensor: {x_data.dtype}\")\n",
    "print(f\"Device tensor is stored on: {x_data.device}\")"
   ]
  },
  {
   "cell_type": "markdown",
   "metadata": {},
   "source": [
    "È possibile, inoltre, convertire alcune strutture dati in tensore. Di seguito un esempio:"
   ]
  },
  {
   "cell_type": "code",
   "execution_count": 13,
   "metadata": {},
   "outputs": [
    {
     "name": "stdout",
     "output_type": "stream",
     "text": [
      "Is tensor:  True\n",
      "Size of x: torch.Size([4])\n",
      "Element at ([1,2]):  3\n",
      "TENSOR FROM OTHER DATA STRUCTURE: tensor([1, 2, 3, 4])\n"
     ]
    }
   ],
   "source": [
    "x = torch.tensor([1,2,3,4])\n",
    "\n",
    "print(\"Is tensor: \", torch.is_tensor(x))        \n",
    "print(\"Size of x:\", x.size())                   \n",
    "print(\"Element at ([1,2]): \", x[2].item())     \n",
    "\n",
    "# Conversione\n",
    "other_data_structure = [1,2,3,4]\n",
    "converted = torch.as_tensor(other_data_structure)\n",
    "print(\"TENSOR FROM OTHER DATA STRUCTURE:\",converted)"
   ]
  },
  {
   "cell_type": "markdown",
   "metadata": {},
   "source": [
    "È possibile eseguire un gran numero di operazioni sui tensori.\n",
    "Ognuno di esse può essere eseguite sulla GPU (a velocità generalmente più elevate rispetto a una CPU)."
   ]
  },
  {
   "cell_type": "code",
   "execution_count": 14,
   "metadata": {},
   "outputs": [],
   "source": [
    "# We move our tensor to the GPU if available\n",
    "if torch.cuda.is_available():\n",
    "  tensor = x_data.to('cuda')\n",
    "  print(f\"Device tensor is stored on: {tensor.device}\")"
   ]
  },
  {
   "cell_type": "markdown",
   "metadata": {},
   "source": [
    "# DATASET e DATALOADER\n",
    "Il codice per elaborare campioni di dati può diventare disordinato e difficile da mantenere; idealmente vogliamo che il nostro codice del dataset sia diviso dal codice per l'addestramento del modello per una migliore leggibilità e modularità. PyTorch fornisce due primitive di dati: torch.utils.data.DataLoader e torch.utils.data.Dataset che ti consentono di utilizzare set di dati pre-caricati oltre ai tuoi dati personalizzati. \n",
    "\n",
    "<font color=\"green\">Dataset:</font>\n",
    "* l Dataset è una classe di PyTorch che memorizza i campioni di dati e le loro etichette corrispondenti.\n",
    "* Si tratta essenzialmente di una rappresentazione dei dati grezzi senza alcuna elaborazione.\n",
    "* Può essere personalizzato per adattarsi alle specifiche esigenze del tuo set di dati, implementando i metodi __getitem__() e __len__().\n",
    "* Un esempio comune è la sottoclasse torch.utils.data.Dataset che definisce un set di dati come FashionMNIST o CIFAR-10.\n",
    "\n",
    "<font color=\"green\">Dataloader:</font>\n",
    "* Il DataLoader è una classe di PyTorch che avvolge un Dataset e lo rende iterabile.\n",
    "* Fornisce funzionalità aggiuntive come il batching dei dati, il campionamento casuale e il caricamento parallelo dei dati.\n",
    "* Semplifica l'accesso ai campioni di dati durante l'addestramento del modello.\n",
    "* Può essere configurato con parametri come batch_size, shuffle, num_workers, ecc., per personalizzare il comportamento del caricamento dei dati.\n",
    "* In sostanza, il DataLoader \"confeziona\" i dati del Dataset in mini-batch gestibili per l'addestramento del modello.\n"
   ]
  },
  {
   "cell_type": "markdown",
   "metadata": {},
   "source": [
    "Ecco un esempio di come caricare il set di dati Fashion-MNIST da TorchVision. ***Fashion-MNIST*** è un dataset di dati di immagini degli articoli di Zalando composto da 60.000 esempi di train e 10.000 esempi di test.\n",
    "Ogni esempio comprende un'immagine in scala di grigi 28×28 e un'etichetta associata da una delle 10 classi."
   ]
  },
  {
   "cell_type": "code",
   "execution_count": 15,
   "metadata": {},
   "outputs": [
    {
     "name": "stdout",
     "output_type": "stream",
     "text": [
      "Training Data info: Dataset FashionMNIST\n",
      "    Number of datapoints: 60000\n",
      "    Root location: data\n",
      "    Split: Train\n",
      "    StandardTransform\n",
      "Transform: ToTensor()\n",
      "Test Data info: Dataset FashionMNIST\n",
      "    Number of datapoints: 10000\n",
      "    Root location: data\n",
      "    Split: Test\n",
      "    StandardTransform\n",
      "Transform: ToTensor()\n"
     ]
    }
   ],
   "source": [
    "import torch\n",
    "from torch.utils.data import Dataset\n",
    "from torchvision import datasets\n",
    "from torchvision.transforms import ToTensor\n",
    "import matplotlib.pyplot as plt\n",
    "\n",
    "\n",
    "training_data = datasets.FashionMNIST(\n",
    "    root=\"data\",\n",
    "    train=True,\n",
    "    download=True,\n",
    "    transform=ToTensor()\n",
    ")\n",
    "\n",
    "test_data = datasets.FashionMNIST(\n",
    "    root=\"data\",\n",
    "    train=False,\n",
    "    download=True,\n",
    "    transform=ToTensor()\n",
    ")\n",
    "print(f\"Training Data info: {training_data}\")\n",
    "print(f\"Test Data info: {test_data}\")\n"
   ]
  },
  {
   "cell_type": "markdown",
   "metadata": {},
   "source": [
    "Nello specifico:\n",
    "\n",
    "* ***Root:*** È il percorso principale dove sono memorizzati i dati.\n",
    "\n",
    "* ***Train/Test:*** Indica se il set di dati specificato è per l'addestramento o per il test del modello.\n",
    "\n",
    "* ***Download:*** Impostando questo parametro su True, i dati verranno scaricati automaticamente da Internet se non sono presenti nella radice specificata.\n",
    "\n",
    "* ***Transform e target_transform:*** Specificano le trasformazioni da applicare alle caratteristiche (input) e alle etichette (output) dei dati. Questo è utile per eseguire operazioni come la normalizzazione dei dati o la conversione delle etichette in un formato desiderato prima di passarli al modello."
   ]
  },
  {
   "cell_type": "markdown",
   "metadata": {},
   "source": [
    "\n",
    "Possiamo indicizzare manualmente i set di dati come una lista: ***training_data[index]***. Utilizziamo matplotlib per visualizzare alcuni campioni nei nostri dati di addestramento."
   ]
  },
  {
   "cell_type": "code",
   "execution_count": 16,
   "metadata": {},
   "outputs": [
    {
     "data": {
      "image/png": "[encoded data removed]",
      "text/plain": [
       "<Figure size 800x800 with 9 Axes>"
      ]
     },
     "metadata": {},
     "output_type": "display_data"
    }
   ],
   "source": [
    "# Mappiamo gli indici delle classi alle relative etichette testuali.\n",
    "labels_map = {\n",
    "    0: \"T-Shirt\",\n",
    "    1: \"Trouser\",\n",
    "    2: \"Pullover\",\n",
    "    3: \"Dress\",\n",
    "    4: \"Coat\",\n",
    "    5: \"Sandal\",\n",
    "    6: \"Shirt\",\n",
    "    7: \"Sneaker\",\n",
    "    8: \"Bag\",\n",
    "    9: \"Ankle Boot\",\n",
    "}\n",
    "\n",
    "# Creiamo una nuova figura di dimensioni 8x8 pollici.\n",
    "figure = plt.figure(figsize=(8, 8))\n",
    "# Definiamo il numero di colonne e righe per il layout dei subplot.\n",
    "cols, rows = 3, 3\n",
    "# Iteriamo attraverso i subplot della figura.\n",
    "for i in range(1, cols * rows + 1):\n",
    "    # Generiamo un indice casuale per estrarre un campione dal set di dati di addestramento.\n",
    "    sample_idx = torch.randint(len(training_data), size=(1,)).item()\n",
    "    # Estraiamo l'immagine e l'etichetta corrispondente dal set di dati di addestramento.\n",
    "    img, label = training_data[sample_idx]\n",
    "    # Aggiungiamo un nuovo subplot alla figura.\n",
    "    figure.add_subplot(rows, cols, i)\n",
    "    # Impostiamo il titolo del subplot con l'etichetta corrispondente.\n",
    "    plt.title(labels_map[label])\n",
    "    # Disabilitiamo gli assi per una migliore visualizzazione.\n",
    "    plt.axis(\"off\")\n",
    "    # Visualizziamo l'immagine come scala di grigi.\n",
    "    plt.imshow(img.squeeze(), cmap=\"gray\")\n",
    "\n",
    "# Mostriamo la figura completa con i subplot.\n",
    "plt.show()\n"
   ]
  },
  {
   "cell_type": "markdown",
   "metadata": {},
   "source": [
    "# Reference\n",
    "https://pytorch.org/tutorials/beginner/basics\n",
    "\n",
    "# Author\n",
    "Vetrano Alessio, 2024"
   ]
  }
 ],
 "metadata": {
  "kernelspec": {
   "display_name": "Python 3",
   "language": "python",
   "name": "python3"
  },
  "language_info": {
   "codemirror_mode": {
    "name": "ipython",
    "version": 3
   },
   "file_extension": ".py",
   "mimetype": "text/x-python",
   "name": "python",
   "nbconvert_exporter": "python",
   "pygments_lexer": "ipython3",
   "version": "3.11.7"
  }
 },
 "nbformat": 4,
 "nbformat_minor": 2
}
