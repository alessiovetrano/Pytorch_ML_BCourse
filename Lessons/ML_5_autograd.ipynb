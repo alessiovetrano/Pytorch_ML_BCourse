{
 "cells": [
  {
   "cell_type": "markdown",
   "metadata": {},
   "source": [
    "# Automatic Differentiation with torch.autograd\n",
    "\n",
    "When training neural networks, the most frequently used algorithm is backpropagation. This algorithm involves adjusting parameters (model weights) based on the gradient of the loss function with respect to each parameter. In PyTorch, this process is facilitated by its built-in differentiation engine called torch.autograd, which enables automatic computation of gradients for any computational graph and offers a methods to solve the *derivates* and in particular the *gradients*.\n",
    "In backpropagation, the algorithm works by first forward-propagating input data through the neural network to compute the predicted output. Then, it calculates the loss between the predicted output and the actual target output. Afterward, it computes the gradients of the loss function with respect to each parameter of the network using the chain rule of calculus, propagating the gradients backward through the network. Finally, it updates the parameters using an optimization algorithm like stochastic gradient descent (SGD) to minimize the loss and improve the model's performance."
   ]
  },
  {
   "cell_type": "markdown",
   "metadata": {},
   "source": [
    "Consider the simplest one-layer neural network, with input x, parameters w and b, and some loss function. It can be defined in PyTorch in the following manner:"
   ]
  },
  {
   "cell_type": "code",
   "execution_count": 9,
   "metadata": {},
   "outputs": [
    {
     "name": "stdout",
     "output_type": "stream",
     "text": [
      "tensor(0.8102, grad_fn=<BinaryCrossEntropyWithLogitsBackward0>)\n"
     ]
    }
   ],
   "source": [
    "import torch\n",
    "\n",
    "x = torch.ones(5)  # input tensor\n",
    "y = torch.zeros(3)  # expected output\n",
    "w = torch.randn(5, 3, requires_grad=True)  # weight tensor with random values and gradient tracking enabled\n",
    "b = torch.randn(3, requires_grad=True)  # bias tensor with random values and gradient tracking enabled\n",
    "z = torch.matmul(x, w) + b  # linear transformation followed by addition of bias\n",
    "loss = torch.nn.functional.binary_cross_entropy_with_logits(z, y)  # compute binary cross-entropy loss\n",
    "print(loss)  # print the computed loss\n"
   ]
  },
  {
   "cell_type": "markdown",
   "metadata": {},
   "source": [
    "![Testo alternativo](https://pytorch.org/tutorials/_images/comp-graph.png)"
   ]
  },
  {
   "cell_type": "markdown",
   "metadata": {},
   "source": [
    "In this network, ***w and b are parameters***, which we need to optimize. Thus, we need to be able to compute the gradients of loss function with respect to those variables. In order to do that, we set the requires_grad property of those tensors.\n",
    "\n",
    "A function that we apply to tensors to construct computational graph is in fact an object of class Function. This object knows how to compute the function in the forward direction, and also how to compute its derivative during the backward propagation step"
   ]
  },
  {
   "cell_type": "code",
   "execution_count": 10,
   "metadata": {},
   "outputs": [
    {
     "name": "stdout",
     "output_type": "stream",
     "text": [
      "Gradient function for z = <AddBackward0 object at 0x73b14b087130>\n",
      "Gradient function for loss = <BinaryCrossEntropyWithLogitsBackward0 object at 0x73b14b087a00>\n"
     ]
    }
   ],
   "source": [
    "print(f\"Gradient function for z = {z.grad_fn}\")\n",
    "print(f\"Gradient function for loss = {loss.grad_fn}\")"
   ]
  },
  {
   "cell_type": "markdown",
   "metadata": {},
   "source": [
    "# Computing Gradients\n",
    "To optimize weights of parameters in the neural network, we need to compute the derivatives of our loss function with respect to parameters, namely, we need \n",
    "$$\n",
    "\\frac{\\sigma_{\\text{loss}}}{\\sigma_{\\text{w}}} \\\n",
    "$$ and \n",
    "$$\n",
    "\\frac{\\sigma_{\\text{loss}}}{\\sigma_{\\text{b}}}\n",
    "$$\n",
    "under some fixed values of x and y. To compute those derivatives, we call loss.backward(), and then retrieve the values from w.grad and b.grad:"
   ]
  },
  {
   "cell_type": "code",
   "execution_count": 11,
   "metadata": {},
   "outputs": [
    {
     "name": "stdout",
     "output_type": "stream",
     "text": [
      "tensor([[0.2379, 0.1330, 0.1629],\n",
      "        [0.2379, 0.1330, 0.1629],\n",
      "        [0.2379, 0.1330, 0.1629],\n",
      "        [0.2379, 0.1330, 0.1629],\n",
      "        [0.2379, 0.1330, 0.1629]])\n",
      "tensor([0.2379, 0.1330, 0.1629])\n"
     ]
    }
   ],
   "source": [
    "loss.backward()\n",
    "print(w.grad)\n",
    "print(b.grad)"
   ]
  }
 ],
 "metadata": {
  "kernelspec": {
   "display_name": ".venv",
   "language": "python",
   "name": "python3"
  },
  "language_info": {
   "codemirror_mode": {
    "name": "ipython",
    "version": 3
   },
   "file_extension": ".py",
   "mimetype": "text/x-python",
   "name": "python",
   "nbconvert_exporter": "python",
   "pygments_lexer": "ipython3",
   "version": "3.11.7"
  }
 },
 "nbformat": 4,
 "nbformat_minor": 2
}
