{
 "cells": [
  {
   "cell_type": "markdown",
   "metadata": {},
   "source": [
    "# DATASET e DATALOADER\n",
    "Il codice per elaborare campioni di dati può diventare disordinato e difficile da mantenere; idealmente vogliamo che il nostro codice del dataset sia diviso dal codice per l'addestramento del modello per una migliore leggibilità e modularità. PyTorch fornisce due primitive di dati: torch.utils.data.DataLoader e torch.utils.data.Dataset che ti consentono di utilizzare set di dati pre-caricati oltre ai tuoi dati personalizzati. \n",
    "\n",
    "<font color=\"green\">Dataset:</font>\n",
    "* l Dataset è una classe di PyTorch che memorizza i campioni di dati e le loro etichette corrispondenti.\n",
    "* Si tratta essenzialmente di una rappresentazione dei dati grezzi senza alcuna elaborazione.\n",
    "* Può essere personalizzato per adattarsi alle specifiche esigenze del tuo set di dati, implementando i metodi __getitem__() e __len__().\n",
    "* Un esempio comune è la sottoclasse torch.utils.data.Dataset che definisce un set di dati come FashionMNIST o CIFAR-10.\n",
    "\n",
    "<font color=\"green\">Dataloader:</font>\n",
    "* Il DataLoader è una classe di PyTorch che avvolge un Dataset e lo rende iterabile.\n",
    "* Fornisce funzionalità aggiuntive come il batching dei dati, il campionamento casuale e il caricamento parallelo dei dati.\n",
    "* Semplifica l'accesso ai campioni di dati durante l'addestramento del modello.\n",
    "* Può essere configurato con parametri come batch_size, shuffle, num_workers, ecc., per personalizzare il comportamento del caricamento dei dati.\n",
    "* In sostanza, il DataLoader \"confeziona\" i dati del Dataset in mini-batch gestibili per l'addestramento del modello.\n",
    "\n",
    "\n",
    "Ecco un esempio di come caricare il set di dati Fashion-MNIST da TorchVision. ***Fashion-MNIST*** è un dataset di dati di immagini degli articoli di Zalando composto da 60.000 esempi di train e 10.000 esempi di test.\n",
    "Ogni esempio comprende un'immagine in scala di grigi 28×28 e un'etichetta associata da una delle 10 classi."
   ]
  },
  {
   "cell_type": "code",
   "execution_count": 1,
   "metadata": {},
   "outputs": [
    {
     "name": "stdout",
     "output_type": "stream",
     "text": [
      "Downloading http://fashion-mnist.s3-website.eu-central-1.amazonaws.com/train-images-idx3-ubyte.gz\n",
      "Downloading http://fashion-mnist.s3-website.eu-central-1.amazonaws.com/train-images-idx3-ubyte.gz to data/FashionMNIST/raw/train-images-idx3-ubyte.gz\n"
     ]
    },
    {
     "name": "stderr",
     "output_type": "stream",
     "text": [
      "100.0%\n"
     ]
    },
    {
     "name": "stdout",
     "output_type": "stream",
     "text": [
      "Extracting data/FashionMNIST/raw/train-images-idx3-ubyte.gz to data/FashionMNIST/raw\n",
      "\n",
      "Downloading http://fashion-mnist.s3-website.eu-central-1.amazonaws.com/train-labels-idx1-ubyte.gz\n",
      "Downloading http://fashion-mnist.s3-website.eu-central-1.amazonaws.com/train-labels-idx1-ubyte.gz to data/FashionMNIST/raw/train-labels-idx1-ubyte.gz\n"
     ]
    },
    {
     "name": "stderr",
     "output_type": "stream",
     "text": [
      "100.0%\n"
     ]
    },
    {
     "name": "stdout",
     "output_type": "stream",
     "text": [
      "Extracting data/FashionMNIST/raw/train-labels-idx1-ubyte.gz to data/FashionMNIST/raw\n",
      "\n",
      "Downloading http://fashion-mnist.s3-website.eu-central-1.amazonaws.com/t10k-images-idx3-ubyte.gz\n",
      "Downloading http://fashion-mnist.s3-website.eu-central-1.amazonaws.com/t10k-images-idx3-ubyte.gz to data/FashionMNIST/raw/t10k-images-idx3-ubyte.gz\n"
     ]
    },
    {
     "name": "stderr",
     "output_type": "stream",
     "text": [
      "100.0%\n"
     ]
    },
    {
     "name": "stdout",
     "output_type": "stream",
     "text": [
      "Extracting data/FashionMNIST/raw/t10k-images-idx3-ubyte.gz to data/FashionMNIST/raw\n",
      "\n",
      "Downloading http://fashion-mnist.s3-website.eu-central-1.amazonaws.com/t10k-labels-idx1-ubyte.gz\n",
      "Downloading http://fashion-mnist.s3-website.eu-central-1.amazonaws.com/t10k-labels-idx1-ubyte.gz to data/FashionMNIST/raw/t10k-labels-idx1-ubyte.gz\n"
     ]
    },
    {
     "name": "stderr",
     "output_type": "stream",
     "text": [
      "100.0%"
     ]
    },
    {
     "name": "stdout",
     "output_type": "stream",
     "text": [
      "Extracting data/FashionMNIST/raw/t10k-labels-idx1-ubyte.gz to data/FashionMNIST/raw\n",
      "\n",
      "Training Data info: Dataset FashionMNIST\n",
      "    Number of datapoints: 60000\n",
      "    Root location: data\n",
      "    Split: Train\n",
      "    StandardTransform\n",
      "Transform: ToTensor()\n",
      "Test Data info: Dataset FashionMNIST\n",
      "    Number of datapoints: 10000\n",
      "    Root location: data\n",
      "    Split: Test\n",
      "    StandardTransform\n",
      "Transform: ToTensor()\n"
     ]
    },
    {
     "name": "stderr",
     "output_type": "stream",
     "text": [
      "\n"
     ]
    }
   ],
   "source": [
    "import torch\n",
    "from torch.utils.data import Dataset\n",
    "from torchvision import datasets\n",
    "from torchvision.transforms import ToTensor\n",
    "import matplotlib.pyplot as plt\n",
    "\n",
    "\n",
    "training_data = datasets.FashionMNIST(\n",
    "    root=\"data\",\n",
    "    train=True,\n",
    "    download=True,\n",
    "    transform=ToTensor()\n",
    ")\n",
    "\n",
    "test_data = datasets.FashionMNIST(\n",
    "    root=\"data\",\n",
    "    train=False,\n",
    "    download=True,\n",
    "    transform=ToTensor()\n",
    ")\n",
    "print(f\"Training Data info: {training_data}\")\n",
    "print(f\"Test Data info: {test_data}\")\n"
   ]
  },
  {
   "cell_type": "markdown",
   "metadata": {},
   "source": [
    "Nello specifico:\n",
    "\n",
    "* ***Root:*** È il percorso principale dove sono memorizzati i dati.\n",
    "\n",
    "* ***Train/Test:*** Indica se il set di dati specificato è per l'addestramento o per il test del modello.\n",
    "\n",
    "* ***Download:*** Impostando questo parametro su True, i dati verranno scaricati automaticamente da Internet se non sono presenti nella radice specificata.\n",
    "\n",
    "* ***Transform e target_transform:*** Specificano le trasformazioni da applicare alle caratteristiche (input) e alle etichette (output) dei dati. Questo è utile per eseguire operazioni come la normalizzazione dei dati o la conversione delle etichette in un formato desiderato prima di passarli al modello.\n",
    "\n",
    "\n",
    "Possiamo indicizzare manualmente i set di dati come una lista: ***training_data[index]***. Utilizziamo matplotlib per visualizzare alcuni campioni nei nostri dati di addestramento."
   ]
  }
 ],
 "metadata": {
  "kernelspec": {
   "display_name": ".venv",
   "language": "python",
   "name": "python3"
  },
  "language_info": {
   "codemirror_mode": {
    "name": "ipython",
    "version": 3
   },
   "file_extension": ".py",
   "mimetype": "text/x-python",
   "name": "python",
   "nbconvert_exporter": "python",
   "pygments_lexer": "ipython3",
   "version": "3.11.7"
  }
 },
 "nbformat": 4,
 "nbformat_minor": 2
}
