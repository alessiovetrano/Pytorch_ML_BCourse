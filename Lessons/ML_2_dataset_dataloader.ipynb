{
 "cells": [
  {
   "cell_type": "markdown",
   "metadata": {},
   "source": [
    "\n",
    "# Dataset and Dataloader\n",
    "Code for processing data samples can become messy and hard to maintain; ideally, we want our dataset code to be separated from the model training code for better readability and modularity. PyTorch provides two data primitives: torch.utils.data.DataLoader and torch.utils.data.Dataset that allow you to use pre-loaded datasets as well as your custom data.\n",
    "\n",
    "<font color=\"green\">Dataset:</font>\n",
    "\n",
    "Dataset is a PyTorch class that stores data samples and their corresponding labels.\n",
    "It's essentially a representation of raw data without any processing.\n",
    "It can be customized to fit the specific needs of your dataset by implementing the methods getitem() and len().\n",
    "A common example is the subclass torch.utils.data.Dataset that defines a dataset like FashionMNIST or CIFAR-10.\n",
    "\n",
    "<font color=\"green\">Dataloader:</font>\n",
    "\n",
    "DataLoader is a PyTorch class that wraps a Dataset and makes it iterable.\n",
    "It provides additional functionalities such as data batching, random sampling, and parallel data loading.\n",
    "It simplifies access to data samples during model training.\n",
    "It can be configured with parameters like batch_size, shuffle, num_workers, etc., to customize the data loading behavior.\n",
    "Essentially, DataLoader \"packages\" Dataset data into manageable mini-batches for model training.\n",
    "Here's an example of loading the Fashion-MNIST dataset from TorchVision. Fashion-MNIST is a dataset of Zalando's article images consisting of 60,000 training examples and 10,000 test examples. Each example includes a grayscale image of size 28×28 and an associated label from one of the 10 classes."
   ]
  },
  {
   "cell_type": "code",
   "execution_count": 6,
   "metadata": {},
   "outputs": [
    {
     "name": "stdout",
     "output_type": "stream",
     "text": [
      "Training Data info: Dataset FashionMNIST\n",
      "    Number of datapoints: 60000\n",
      "    Root location: data\n",
      "    Split: Train\n",
      "    StandardTransform\n",
      "Transform: ToTensor()\n",
      "Test Data info: Dataset FashionMNIST\n",
      "    Number of datapoints: 10000\n",
      "    Root location: data\n",
      "    Split: Test\n",
      "    StandardTransform\n",
      "Transform: ToTensor()\n"
     ]
    }
   ],
   "source": [
    "import torch\n",
    "from torch.utils.data import Dataset\n",
    "from torchvision import datasets\n",
    "from torchvision.transforms import ToTensor\n",
    "import matplotlib.pyplot as plt\n",
    "\n",
    "\n",
    "training_data = datasets.FashionMNIST(\n",
    "    root=\"data\",\n",
    "    train=True,\n",
    "    download=True,\n",
    "    transform=ToTensor()\n",
    ")\n",
    "\n",
    "test_data = datasets.FashionMNIST(\n",
    "    root=\"data\",\n",
    "    train=False,\n",
    "    download=True,\n",
    "    transform=ToTensor()\n",
    ")\n",
    "print(f\"Training Data info: {training_data}\")\n",
    "print(f\"Test Data info: {test_data}\")\n"
   ]
  },
  {
   "cell_type": "markdown",
   "metadata": {},
   "source": [
    "Specifically:\n",
    "\n",
    "***Root:*** It is the main path where the data is stored.\n",
    "\n",
    "***Train/Test:*** Indicates whether the specified dataset is for model training or testing.\n",
    "\n",
    "***Download***: By setting this parameter to True, the data will be automatically downloaded from the internet if they are not present in the specified root.\n",
    "\n",
    "***Transform and target_transform:*** Specify the transformations to apply to the features (inputs) and labels (outputs) of the data. This is useful for operations like data normalization or converting labels to a desired format before passing them to the model.\n",
    "\n",
    "We can manually index datasets as a list: training_data[index]. We use matplotlib to visualize some samples in our training data."
   ]
  },
  {
   "cell_type": "code",
   "execution_count": 7,
   "metadata": {},
   "outputs": [
    {
     "data": {
      "image/png": "[encoded data removed]",
      "text/plain": [
       "<Figure size 800x800 with 9 Axes>"
      ]
     },
     "metadata": {},
     "output_type": "display_data"
    }
   ],
   "source": [
    "# Map class indices to their respective textual labels.\n",
    "labels_map = {\n",
    "    0: \"T-Shirt\",\n",
    "    1: \"Trouser\",\n",
    "    2: \"Pullover\",\n",
    "    3: \"Dress\",\n",
    "    4: \"Coat\",\n",
    "    5: \"Sandal\",\n",
    "    6: \"Shirt\",\n",
    "    7: \"Sneaker\",\n",
    "    8: \"Bag\",\n",
    "    9: \"Ankle Boot\",\n",
    "}\n",
    "\n",
    "# Create a new figure of size 8x8 inches.\n",
    "figure = plt.figure(figsize=(8, 8))\n",
    "# Define the number of columns and rows for the subplot layout.\n",
    "cols, rows = 3, 3\n",
    "# Iterate through the subplots of the figure.\n",
    "for i in range(1, cols * rows + 1):\n",
    "    # Generate a random index to extract a sample from the training dataset.\n",
    "    sample_idx = torch.randint(len(training_data), size=(1,)).item()\n",
    "    # Extract the image and its corresponding label from the training dataset.\n",
    "    img, label = training_data[sample_idx]\n",
    "    # Add a new subplot to the figure.\n",
    "    figure.add_subplot(rows, cols, i)\n",
    "    # Set the title of the subplot with the corresponding label.\n",
    "    plt.title(labels_map[label])\n",
    "    # Disable axes for better visualization.\n",
    "    plt.axis(\"off\")\n",
    "    # Display the image as grayscale.\n",
    "    plt.imshow(img.squeeze(), cmap=\"gray\")\n",
    "\n",
    "# Show the complete figure with subplots.\n",
    "plt.show()\n"
   ]
  },
  {
   "cell_type": "markdown",
   "metadata": {},
   "source": [
    "# Creating a Custom Dataset for your files"
   ]
  },
  {
   "cell_type": "markdown",
   "metadata": {},
   "source": [
    "A custom Dataset class must implement three functions: __init__, __len__, and __getitem__. Take a look at this implementation; the FashionMNIST images are stored in a directory img_dir, and their labels are stored separately in a CSV file annotations_file.\n",
    "\n",
    "In the next sections, we’ll break down what’s happening in each of these functions:"
   ]
  },
  {
   "cell_type": "code",
   "execution_count": 11,
   "metadata": {},
   "outputs": [],
   "source": [
    "import os\n",
    "import pandas as pd\n",
    "from torchvision.io import read_image\n",
    "from torch.utils.data import Dataset\n",
    "\n",
    "class CustomImageDataset(Dataset):\n",
    "    def __init__(self, annotations_file, img_dir, transform=None, target_transform=None):\n",
    "        # Initialize the dataset by loading annotations file and setting attributes\n",
    "        self.img_labels = pd.read_csv(annotations_file)  # Load image labels from a CSV file\n",
    "        self.img_dir = img_dir  # Directory containing the images\n",
    "        self.transform = transform  # Transformation to apply to the images\n",
    "        self.target_transform = target_transform  # Transformation to apply to the labels\n",
    "\n",
    "    def __len__(self):\n",
    "        # Return the total number of samples in the dataset\n",
    "        return len(self.img_labels)\n",
    "\n",
    "    def __getitem__(self, idx):\n",
    "        # Get a sample from the dataset by index\n",
    "        img_path = os.path.join(self.img_dir, self.img_labels.iloc[idx, 0])  # Get the image path\n",
    "        image = read_image(img_path)  # Read the image using torchvision.io.read_image()\n",
    "        label = self.img_labels.iloc[idx, 1]  # Get the label for the image\n",
    "\n",
    "        # Apply transformations if they exist\n",
    "        if self.transform:\n",
    "            image = self.transform(image)\n",
    "        if self.target_transform:\n",
    "            label = self.target_transform(label)\n",
    "\n",
    "        return image, label  # Return the transformed image and label for the sample\n"
   ]
  },
  {
   "cell_type": "markdown",
   "metadata": {},
   "source": [
    "Specifically:\n",
    "The ***__init__*** function is run once when instantiating the Dataset object. We initialize the directory containing the images, the annotations file, and both transforms."
   ]
  },
  {
   "cell_type": "code",
   "execution_count": 12,
   "metadata": {},
   "outputs": [],
   "source": [
    "def __init__(self, annotations_file, img_dir, transform=None, target_transform=None):\n",
    "    self.img_labels = pd.read_csv(annotations_file)\n",
    "    self.img_dir = img_dir\n",
    "    self.transform = transform\n",
    "    self.target_transform = target_transform"
   ]
  },
  {
   "cell_type": "markdown",
   "metadata": {},
   "source": [
    "The ***__len__*** function returns the number of samples in our dataset."
   ]
  },
  {
   "cell_type": "code",
   "execution_count": 13,
   "metadata": {},
   "outputs": [],
   "source": [
    "def __len__(self):\n",
    "    return len(self.img_labels)"
   ]
  },
  {
   "cell_type": "markdown",
   "metadata": {},
   "source": [
    "The ***__getitem__*** function loads and returns a sample from the dataset at the given index idx. Based on the index, it identifies the image’s location on disk, converts that to a tensor using read_image, retrieves the corresponding label from the csv data in self.img_labels, calls the transform functions on them (if applicable), and returns the tensor image and corresponding label in a tuple."
   ]
  },
  {
   "cell_type": "code",
   "execution_count": 14,
   "metadata": {},
   "outputs": [],
   "source": [
    "def __getitem__(self, idx):\n",
    "    img_path = os.path.join(self.img_dir, self.img_labels.iloc[idx, 0])\n",
    "    image = read_image(img_path)\n",
    "    label = self.img_labels.iloc[idx, 1]\n",
    "    if self.transform:\n",
    "        image = self.transform(image)\n",
    "    if self.target_transform:\n",
    "        label = self.target_transform(label)\n",
    "    return image, label"
   ]
  },
  {
   "cell_type": "markdown",
   "metadata": {},
   "source": [
    "# Reference\n",
    "https://pytorch.org/tutorials/beginner/basics/data_tutorial.html\n",
    "\n",
    "# Author\n",
    "Vetrano Alessio, 2024"
   ]
  }
 ],
 "metadata": {
  "kernelspec": {
   "display_name": ".venv",
   "language": "python",
   "name": "python3"
  },
  "language_info": {
   "codemirror_mode": {
    "name": "ipython",
    "version": 3
   },
   "file_extension": ".py",
   "mimetype": "text/x-python",
   "name": "python",
   "nbconvert_exporter": "python",
   "pygments_lexer": "ipython3",
   "version": "3.11.7"
  }
 },
 "nbformat": 4,
 "nbformat_minor": 2
}
