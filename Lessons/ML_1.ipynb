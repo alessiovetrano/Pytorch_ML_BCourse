{
 "cells": [
  {
   "cell_type": "markdown",
   "metadata": {},
   "source": [
    "# Basi di PyTorch\n",
    "# Tensori\n",
    "Un tensore è una struttura dati multidimensionale utilizzata principalmente nelle librerie di calcolo numerico e di apprendimento automatico come PyTorch e TensorFlow. Può essere pensato come una generalizzazione dei vettori e delle matrici a più dimensioni.\n",
    "Sono simili agli ndarray di NumPy, tranne per il fatto che i tensori possono essere eseguiti su GPU o altro hardware specializzato per accelerare l'elaborazione.\n",
    "Per utilizzare i tensori, bisogna importare la libreria come segue:"
   ]
  },
  {
   "cell_type": "code",
   "execution_count": 11,
   "metadata": {},
   "outputs": [],
   "source": [
    "import torch\n",
    "import numpy as np"
   ]
  },
  {
   "cell_type": "markdown",
   "metadata": {},
   "source": [
    "I tensori possono essere inizializzati come segue con le informazioni seguenti:"
   ]
  },
  {
   "cell_type": "code",
   "execution_count": 12,
   "metadata": {},
   "outputs": [
    {
     "name": "stdout",
     "output_type": "stream",
     "text": [
      "Shape of tensor: torch.Size([2, 2])\n",
      "Datatype of tensor: torch.int64\n",
      "Device tensor is stored on: cpu\n"
     ]
    }
   ],
   "source": [
    "data = [[1, 2], [3, 4]]\n",
    "x_data = torch.tensor(data)\n",
    "print(f\"Shape of tensor: {x_data.shape}\")\n",
    "print(f\"Datatype of tensor: {x_data.dtype}\")\n",
    "print(f\"Device tensor is stored on: {x_data.device}\")"
   ]
  },
  {
   "cell_type": "markdown",
   "metadata": {},
   "source": [
    "È possibile, inoltre, convertire alcune strutture dati in tensore. Di seguito un esempio:"
   ]
  },
  {
   "cell_type": "code",
   "execution_count": 13,
   "metadata": {},
   "outputs": [
    {
     "name": "stdout",
     "output_type": "stream",
     "text": [
      "Is tensor:  True\n",
      "Size of x: torch.Size([4])\n",
      "Element at ([1,2]):  3\n",
      "TENSOR FROM OTHER DATA STRUCTURE: tensor([1, 2, 3, 4])\n"
     ]
    }
   ],
   "source": [
    "x = torch.tensor([1,2,3,4])\n",
    "\n",
    "print(\"Is tensor: \", torch.is_tensor(x))        \n",
    "print(\"Size of x:\", x.size())                   \n",
    "print(\"Element at ([1,2]): \", x[2].item())     \n",
    "\n",
    "# Conversione\n",
    "other_data_structure = [1,2,3,4]\n",
    "converted = torch.as_tensor(other_data_structure)\n",
    "print(\"TENSOR FROM OTHER DATA STRUCTURE:\",converted)"
   ]
  },
  {
   "cell_type": "markdown",
   "metadata": {},
   "source": [
    "È possibile eseguire un gran numero di operazioni sui tensori.\n",
    "Ognuno di esse può essere eseguite sulla GPU (a velocità generalmente più elevate rispetto a una CPU)."
   ]
  },
  {
   "cell_type": "code",
   "execution_count": 14,
   "metadata": {},
   "outputs": [],
   "source": [
    "# We move our tensor to the GPU if available\n",
    "if torch.cuda.is_available():\n",
    "  tensor = x_data.to('cuda')\n",
    "  print(f\"Device tensor is stored on: {tensor.device}\")"
   ]
  },
  {
   "cell_type": "markdown",
   "metadata": {},
   "source": [
    "# Reference\n",
    "https://pytorch.org/tutorials/beginner/basics\n",
    "\n",
    "# Author\n",
    "Vetrano Alessio, 2024"
   ]
  }
 ],
 "metadata": {
  "kernelspec": {
   "display_name": "Python 3",
   "language": "python",
   "name": "python3"
  },
  "language_info": {
   "codemirror_mode": {
    "name": "ipython",
    "version": 3
   },
   "file_extension": ".py",
   "mimetype": "text/x-python",
   "name": "python",
   "nbconvert_exporter": "python",
   "pygments_lexer": "ipython3",
   "version": "3.11.7"
  }
 },
 "nbformat": 4,
 "nbformat_minor": 2
}
